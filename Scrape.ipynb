{
 "cells": [
  {
   "cell_type": "code",
   "execution_count": null,
   "metadata": {},
   "outputs": [],
   "source": [
    "import requests\n",
    "import json\n",
    "from decimal import *"
   ]
  },
  {
   "cell_type": "code",
   "execution_count": null,
   "metadata": {},
   "outputs": [],
   "source": [
    "'''define bounding box. i'm using queensland as an example'''\n",
    "North = -9.0000\n",
    "East = 155.000\n",
    "South = -29.500\n",
    "West = 138.000"
   ]
  },
  {
   "cell_type": "code",
   "execution_count": null,
   "metadata": {},
   "outputs": [],
   "source": [
    "'''retains precision of coordinates by defining number of decimal places'''\n",
    "getcontext().prec = 3\n",
    "\n",
    "'''store each response from the api call in this list'''\n",
    "list_of_requests = []\n",
    "\n",
    "'''api key'''\n",
    "API_KEY = <insert your Google API key here>\n",
    "\n",
    "'''query as string. don't forget percent20 for spaces! i've used 'quarries queensland' as an example'''\n",
    "q = 'quarries%20queensland'\n",
    "\n",
    "'''function scans latitude points northwards along a fixed line of longitude until northern limit is reached.\n",
    "a buffer of 50km radius is created around each point. \n",
    "relevant results within this zone are captured and added to above list (list_of_requests)'''\n",
    "def scan(longitude,north,east,south,west,query):\n",
    "    latitude = south\n",
    "    pagetoken = ''\n",
    "    while latitude < north:\n",
    "        r = requests.get('https://maps.googleapis.com/maps/api/place/textsearch/json?query='+query+'&location='+str(latitude)+','+str(longitude)+'&radius=50000&pagetoken='+pagetoken+'&key='+API_KEY)\n",
    "        data = r.json()\n",
    "        list_of_requests.append(data)\n",
    "        try:\n",
    "            pagetoken += data['next_page_token']\n",
    "        except KeyError:\n",
    "            latitude += 1\n",
    "            pagetoken = ''\n",
    "    \n",
    "    return list_of_requests\n",
    "\n",
    "'''function takes bounding box coordinates and api query as parameters. \n",
    "line of longitude slides incrementally east. \n",
    "each new line of longitude is scanned northwards in turn, as above, until eastern limit is reached'''\n",
    "def increment_long(north,east,south,west,query):\n",
    "    longitude = west\n",
    "    while longitude < east:\n",
    "        scan(longitude,north,east,south,west,query)\n",
    "        longitude += 1\n",
    "        longitude = Decimal(longitude)\n",
    "\n",
    "increment_long(North,East,South,West,q)\n"
   ]
  }
 ],
 "metadata": {
  "kernelspec": {
   "display_name": "Python 3",
   "language": "python",
   "name": "python3"
  },
  "language_info": {
   "codemirror_mode": {
    "name": "ipython",
    "version": 3
   },
   "file_extension": ".py",
   "mimetype": "text/x-python",
   "name": "python",
   "nbconvert_exporter": "python",
   "pygments_lexer": "ipython3",
   "version": "3.7.6"
  }
 },
 "nbformat": 4,
 "nbformat_minor": 4
}
